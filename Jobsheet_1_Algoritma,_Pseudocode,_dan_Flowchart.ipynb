{
  "nbformat": 4,
  "nbformat_minor": 0,
  "metadata": {
    "colab": {
      "provenance": [],
      "authorship_tag": "ABX9TyNF0AyjmdVDuyx0YocjX/nt",
      "include_colab_link": true
    },
    "kernelspec": {
      "name": "python3",
      "display_name": "Python 3"
    },
    "language_info": {
      "name": "python"
    }
  },
  "cells": [
    {
      "cell_type": "markdown",
      "metadata": {
        "id": "view-in-github",
        "colab_type": "text"
      },
      "source": [
        "<a href=\"https://colab.research.google.com/github/tegar43325024/Tegar-Bagus-Satria_Jobsheet-1-Algoritma-Pseudocode-dan-Flowchart_Algoritma-dan-Pemrograman/blob/main/Jobsheet_1_Algoritma%2C_Pseudocode%2C_dan_Flowchart.ipynb\" target=\"_parent\"><img src=\"https://colab.research.google.com/assets/colab-badge.svg\" alt=\"Open In Colab\"/></a>"
      ]
    },
    {
      "cell_type": "markdown",
      "source": [
        "# Praktikum 1: Menghitung Luas Persegi Panjang"
      ],
      "metadata": {
        "id": "jWeDE9ur5WUX"
      }
    },
    {
      "cell_type": "code",
      "source": [
        "p = int(input(\"Masukkan panjang: \"))\n",
        "l = int(input(\"Masukkan lebar: \"))\n",
        "luas = p * l\n",
        "print(\"Luas persegi panjang =\", luas)"
      ],
      "metadata": {
        "colab": {
          "base_uri": "https://localhost:8080/"
        },
        "id": "8rCCfo3i6Eyq",
        "outputId": "9c426a60-663f-4588-bb61-ee58f8decb2d"
      },
      "execution_count": null,
      "outputs": [
        {
          "output_type": "stream",
          "name": "stdout",
          "text": [
            "Masukkan panjang: 4\n",
            "Masukkan lebar: 2\n",
            "Luas persegi panjang = 8\n"
          ]
        }
      ]
    },
    {
      "cell_type": "markdown",
      "source": [
        "# Praktikum 2: Menghitung Luas Segitiga (Heron)"
      ],
      "metadata": {
        "id": "EfLwRSQW7VXK"
      }
    },
    {
      "cell_type": "code",
      "source": [
        "import math\n",
        "\n",
        "a = float(input(\"Masukkan sisi a: \"))\n",
        "b = float(input(\"Masukkan sisi b: \"))\n",
        "c = float(input(\"Masukkan sisi c: \"))\n",
        "\n",
        "s = (a + b + c) /2\n",
        "luas = math.sqrt(s*(s-a)*(s-b)*(s-c))\n",
        "print(\"Luas segitiga =\", luas)"
      ],
      "metadata": {
        "colab": {
          "base_uri": "https://localhost:8080/"
        },
        "id": "GRlA6UIi7ext",
        "outputId": "ae37614a-7c2f-4947-e485-3da7326f40d0"
      },
      "execution_count": null,
      "outputs": [
        {
          "output_type": "stream",
          "name": "stdout",
          "text": [
            "Masukkan sisi a: 10\n",
            "Masukkan sisi b: 15\n",
            "Masukkan sisi c: 20\n",
            "Luas segitiga = 72.61843774138907\n"
          ]
        }
      ]
    },
    {
      "cell_type": "markdown",
      "source": [
        "# Praktikum 3: Konversi Suhu Celcius ke Fahrenheit"
      ],
      "metadata": {
        "id": "RMq4hm0C85Ee"
      }
    },
    {
      "cell_type": "code",
      "source": [
        "c = float(input(\"Masukkan suhu (C): \"))\n",
        "f = (c * 9/5) + 32\n",
        "print(\"Hasil konversi =\", f, \"F\")"
      ],
      "metadata": {
        "colab": {
          "base_uri": "https://localhost:8080/"
        },
        "id": "D5YgLq6u9BwF",
        "outputId": "9f121197-15bc-47ed-ae82-6944449d4b3c"
      },
      "execution_count": null,
      "outputs": [
        {
          "output_type": "stream",
          "name": "stdout",
          "text": [
            "Masukkan suhu (C): 40\n",
            "Hasil konversi = 104.0 F\n"
          ]
        }
      ]
    },
    {
      "cell_type": "markdown",
      "source": [
        "# Praktikum 4: Menghitung Umur Berdasarkan Tahun Lahir"
      ],
      "metadata": {
        "id": "KBmK61B4-P3a"
      }
    },
    {
      "cell_type": "code",
      "source": [
        "tahun_lahir = int(input(\"Masukkan tahun lahir: \"))\n",
        "tahun_sekarang = 2025\n",
        "umur = tahun_sekarang - tahun_lahir\n",
        "print(\"Umur saya =\", umur, \"tahun\")"
      ],
      "metadata": {
        "colab": {
          "base_uri": "https://localhost:8080/"
        },
        "id": "BBJaFyh--bpU",
        "outputId": "f1e9ee0d-efeb-4485-b27a-af66423a4e3c"
      },
      "execution_count": null,
      "outputs": [
        {
          "output_type": "stream",
          "name": "stdout",
          "text": [
            "Masukkan tahun lahir: 2008\n",
            "Umur saya = 17 tahun\n"
          ]
        }
      ]
    },
    {
      "cell_type": "markdown",
      "source": [
        "# Praktikum 5: Menghitung Luas Lingkaran"
      ],
      "metadata": {
        "id": "YJJBvJcq_fZl"
      }
    },
    {
      "cell_type": "code",
      "source": [
        "import math\n",
        "r = float(input(\"Masukkan jari-jari lingkaran: \"))\n",
        "luas = math.pi * r * r\n",
        "print(\"Luas lingkaran =\", luas)"
      ],
      "metadata": {
        "colab": {
          "base_uri": "https://localhost:8080/"
        },
        "id": "5A0wQG6T-1BE",
        "outputId": "8bb6fb6b-9186-4053-b877-6c71b31b0cab"
      },
      "execution_count": null,
      "outputs": [
        {
          "output_type": "stream",
          "name": "stdout",
          "text": [
            "Masukkan jari-jari lingkaran: 21\n",
            "Luas lingkaran = 1385.442360233099\n"
          ]
        }
      ]
    },
    {
      "cell_type": "markdown",
      "source": [
        "# Praktikum 6: Menjumlahkan Tiga Bilangan"
      ],
      "metadata": {
        "id": "r_UElf6XA-Kg"
      }
    },
    {
      "cell_type": "code",
      "source": [
        "a = (int)(input(\"Masukkan nilai a: \"))\n",
        "b = (int)(input(\"Masukkan nilai b: \"))\n",
        "c = (int)(input(\"Masukkan nilai c: \"))\n",
        "\n",
        "jumlah = a + b + c\n",
        "print(\"Jumlah ketiga bilangan adalah=\", jumlah)"
      ],
      "metadata": {
        "colab": {
          "base_uri": "https://localhost:8080/"
        },
        "id": "vezRyejJBEnm",
        "outputId": "0370db11-6ac9-408b-b0a6-9dc46af9837d"
      },
      "execution_count": null,
      "outputs": [
        {
          "output_type": "stream",
          "name": "stdout",
          "text": [
            "Masukkan nilai a: 10\n",
            "Masukkan nilai b: 5\n",
            "Masukkan nilai c: 3\n",
            "Jumlah ketiga bilangan adalah= 18\n"
          ]
        }
      ]
    },
    {
      "cell_type": "markdown",
      "source": [
        "# Penugasan No. 3: Menghitung Volume Balok"
      ],
      "metadata": {
        "id": "ZLH_5KRT2hBd"
      }
    },
    {
      "cell_type": "code",
      "source": [
        "p = int(input(\"Masukkan nilai p: \"))\n",
        "l = int(input(\"Masukkan nilai l: \"))\n",
        "t = int(input(\"Masukkan nilai t: \"))\n",
        "volume = p * l * t\n",
        "print(\"Volume balok adalah: \", volume)"
      ],
      "metadata": {
        "colab": {
          "base_uri": "https://localhost:8080/"
        },
        "id": "u3zKaZ6a2flL",
        "outputId": "2e2d7039-1fc0-46df-db98-891389b9dbf5"
      },
      "execution_count": null,
      "outputs": [
        {
          "output_type": "stream",
          "name": "stdout",
          "text": [
            "Masukkan nilai p: 10\n",
            "Masukkan nilai l: 5\n",
            "Masukkan nilai t: 4\n",
            "Volume balok adalah:  200\n"
          ]
        }
      ]
    },
    {
      "cell_type": "markdown",
      "source": [
        "# Penugasan No. 4: Konversi Waktu (Detik ke Jam:Menit:Detik)"
      ],
      "metadata": {
        "id": "sLC2yOzm4NT7"
      }
    },
    {
      "cell_type": "code",
      "source": [
        "jumlah_detik = int(input(\"Masukkan jumlah detik: \"))\n",
        "jam = jumlah_detik // 3600\n",
        "sisa_detik = jumlah_detik % 3600\n",
        "menit = sisa_detik // 60\n",
        "detik = sisa_detik % 60\n",
        "\n",
        "print(\"Konversi waktu\", jumlah_detik, \"detik adalah\", jam, \"jam\", menit, \"menit\", detik, \"detik\")"
      ],
      "metadata": {
        "id": "BTrbzfQk3hGR",
        "colab": {
          "base_uri": "https://localhost:8080/"
        },
        "outputId": "abc1bf4b-45b4-4e8a-dda8-3daecdff4740"
      },
      "execution_count": 11,
      "outputs": [
        {
          "output_type": "stream",
          "name": "stdout",
          "text": [
            "Masukkan jumlah detik: 5400\n",
            "Konversi waktu 5400 detik adalah 1 jam 30 menit 0 detik\n"
          ]
        }
      ]
    },
    {
      "cell_type": "markdown",
      "source": [
        "# Penugasan No. 5: Rata-rata Nilai 3 Mata Kuliah"
      ],
      "metadata": {
        "id": "tRV6W2eLP6jo"
      }
    },
    {
      "cell_type": "code",
      "source": [
        "matkul_1 = float(input(\"Masukkan nilai mata kuliah 1: \"))\n",
        "matkul_2 = float(input(\"Masukkan nilai mata kuliah 2: \"))\n",
        "matkul_3 = float(input(\"Masukkan nilai mata kuliah 3: \"))\n",
        "rata_rata = (matkul_1 + matkul_2 + matkul_3) / 3\n",
        "\n",
        "print(f\"Rata-rata nilai dari 3 mata kuliah adalah: {rata_rata:.2f}\")\n",
        "\n",
        "if rata_rata >= 60:\n",
        "  print(\"Status: LULUS\")\n",
        "\n",
        "else:\n",
        "  print(\"Status: TIDAK LULUS\")"
      ],
      "metadata": {
        "colab": {
          "base_uri": "https://localhost:8080/"
        },
        "id": "KTdXEh6DQTHm",
        "outputId": "c6b83bad-0583-4c75-ca01-0ccad78b386c"
      },
      "execution_count": 15,
      "outputs": [
        {
          "output_type": "stream",
          "name": "stdout",
          "text": [
            "Masukkan nilai mata kuliah 1: 90\n",
            "Masukkan nilai mata kuliah 2: 93\n",
            "Masukkan nilai mata kuliah 3: 86\n",
            "Rata-rata nilai dari 3 mata kuliah adalah: 89.67\n",
            "Status: LULUS\n"
          ]
        }
      ]
    },
    {
      "cell_type": "markdown",
      "source": [
        "# Penugasan No. 6: Menghitung Diskon Belanja"
      ],
      "metadata": {
        "id": "Q_VojqQvdPPb"
      }
    },
    {
      "cell_type": "code",
      "source": [
        "total_belanja = float(input(\"Masukkan total belanja: \"))\n",
        "if total_belanja >= 500000:\n",
        "  diskon = 0.20 * total_belanja\n",
        "elif total_belanja >= 250000:\n",
        "  diskon = 0.10 * total_belanja\n",
        "else:\n",
        "  diskon = 0\n",
        "\n",
        "total_bayar = total_belanja - diskon\n",
        "\n",
        "print(f\"Total belanja: Rp {total_belanja:,.0f}\")\n",
        "print(f\"Diskon yang didapat: {diskon:,.0f}\")\n",
        "print(f\"Total yang harus dibayar: {total_bayar:,.0f}\")"
      ],
      "metadata": {
        "colab": {
          "base_uri": "https://localhost:8080/"
        },
        "id": "gGcbsURGdYOs",
        "outputId": "43d75108-c961-412e-f25e-268308682b8c"
      },
      "execution_count": 23,
      "outputs": [
        {
          "output_type": "stream",
          "name": "stdout",
          "text": [
            "Masukkan total belanja: 100000\n",
            "Total belanja: Rp 100,000\n",
            "Diskon yang didapat: 0\n",
            "Total yang harus dibayar: 100,000\n"
          ]
        }
      ]
    }
  ]
}