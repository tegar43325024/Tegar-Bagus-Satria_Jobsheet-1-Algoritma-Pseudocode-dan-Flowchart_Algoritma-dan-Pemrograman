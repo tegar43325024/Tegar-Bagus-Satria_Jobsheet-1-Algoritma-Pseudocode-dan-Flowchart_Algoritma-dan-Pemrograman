{
  "nbformat": 4,
  "nbformat_minor": 0,
  "metadata": {
    "colab": {
      "provenance": [],
      "authorship_tag": "ABX9TyPCtv7QfyHZZKJj992ZTIxS",
      "include_colab_link": true
    },
    "kernelspec": {
      "name": "python3",
      "display_name": "Python 3"
    },
    "language_info": {
      "name": "python"
    }
  },
  "cells": [
    {
      "cell_type": "markdown",
      "metadata": {
        "id": "view-in-github",
        "colab_type": "text"
      },
      "source": [
        "<a href=\"https://colab.research.google.com/github/tegar43325024/Tegar-Bagus-Satria_Jobsheet-1-Algoritma-Pseudocode-dan-Flowchart_Algoritma-dan-Pemrograman/blob/main/Jobsheet_1_Algoritma%2C_Pseudocode%2C_dan_Flowchart.ipynb\" target=\"_parent\"><img src=\"https://colab.research.google.com/assets/colab-badge.svg\" alt=\"Open In Colab\"/></a>"
      ]
    },
    {
      "cell_type": "markdown",
      "source": [
        "# Praktikum 1: Menghitung Luas Persegi Panjang"
      ],
      "metadata": {
        "id": "jWeDE9ur5WUX"
      }
    },
    {
      "cell_type": "code",
      "execution_count": null,
      "metadata": {
        "id": "ajv3dbmU4Ceu"
      },
      "outputs": [],
      "source": []
    },
    {
      "cell_type": "code",
      "source": [
        "p = int(input(\"Masukkan panjang: \"))\n",
        "l = int(input(\"Masukkan lebar: \"))\n",
        "luas = p * l\n",
        "print(\"Luas persegi panjang =\", luas)"
      ],
      "metadata": {
        "colab": {
          "base_uri": "https://localhost:8080/"
        },
        "id": "8rCCfo3i6Eyq",
        "outputId": "9c426a60-663f-4588-bb61-ee58f8decb2d"
      },
      "execution_count": null,
      "outputs": [
        {
          "output_type": "stream",
          "name": "stdout",
          "text": [
            "Masukkan panjang: 4\n",
            "Masukkan lebar: 2\n",
            "Luas persegi panjang = 8\n"
          ]
        }
      ]
    },
    {
      "cell_type": "code",
      "source": [],
      "metadata": {
        "id": "AslqgRJ46iF8"
      },
      "execution_count": null,
      "outputs": []
    },
    {
      "cell_type": "markdown",
      "source": [
        "# Praktikum 2: Menghitung Luas Segitiga (Heron)"
      ],
      "metadata": {
        "id": "EfLwRSQW7VXK"
      }
    },
    {
      "cell_type": "code",
      "source": [
        "import math\n",
        "\n",
        "a = float(input(\"Masukkan sisi a: \"))\n",
        "b = float(input(\"Masukkan sisi b: \"))\n",
        "c = float(input(\"Masukkan sisi c: \"))\n",
        "\n",
        "s = (a + b + c) /2\n",
        "luas = math.sqrt(s*(s-a)*(s-b)*(s-c))\n",
        "print(\"Luas segitiga =\", luas)"
      ],
      "metadata": {
        "colab": {
          "base_uri": "https://localhost:8080/"
        },
        "id": "GRlA6UIi7ext",
        "outputId": "ae37614a-7c2f-4947-e485-3da7326f40d0"
      },
      "execution_count": null,
      "outputs": [
        {
          "output_type": "stream",
          "name": "stdout",
          "text": [
            "Masukkan sisi a: 10\n",
            "Masukkan sisi b: 15\n",
            "Masukkan sisi c: 20\n",
            "Luas segitiga = 72.61843774138907\n"
          ]
        }
      ]
    },
    {
      "cell_type": "code",
      "source": [],
      "metadata": {
        "id": "8-3S7cGS8KuU"
      },
      "execution_count": null,
      "outputs": []
    },
    {
      "cell_type": "markdown",
      "source": [
        "# Praktikum 3: Konversi Suhu Celcius ke Fahrenheit"
      ],
      "metadata": {
        "id": "RMq4hm0C85Ee"
      }
    },
    {
      "cell_type": "code",
      "source": [
        "c = float(input(\"Masukkan suhu (C): \"))\n",
        "f = (c * 9/5) + 32\n",
        "print(\"Hasil konversi =\", f, \"F\")"
      ],
      "metadata": {
        "colab": {
          "base_uri": "https://localhost:8080/"
        },
        "id": "D5YgLq6u9BwF",
        "outputId": "9f121197-15bc-47ed-ae82-6944449d4b3c"
      },
      "execution_count": null,
      "outputs": [
        {
          "output_type": "stream",
          "name": "stdout",
          "text": [
            "Masukkan suhu (C): 40\n",
            "Hasil konversi = 104.0 F\n"
          ]
        }
      ]
    },
    {
      "cell_type": "code",
      "source": [],
      "metadata": {
        "id": "8CdJiqq69k6W"
      },
      "execution_count": null,
      "outputs": []
    },
    {
      "cell_type": "markdown",
      "source": [
        "# Praktikum 4: Menghitung Umur Berdasarkan Tahun Lahir"
      ],
      "metadata": {
        "id": "KBmK61B4-P3a"
      }
    },
    {
      "cell_type": "code",
      "source": [
        "tahun_lahir = int(input(\"Masukkan tahun lahir: \"))\n",
        "tahun_sekarang = 2025\n",
        "umur = tahun_sekarang - tahun_lahir\n",
        "print(\"Umur saya =\", umur, \"tahun\")"
      ],
      "metadata": {
        "colab": {
          "base_uri": "https://localhost:8080/"
        },
        "id": "BBJaFyh--bpU",
        "outputId": "f1e9ee0d-efeb-4485-b27a-af66423a4e3c"
      },
      "execution_count": null,
      "outputs": [
        {
          "output_type": "stream",
          "name": "stdout",
          "text": [
            "Masukkan tahun lahir: 2008\n",
            "Umur saya = 17 tahun\n"
          ]
        }
      ]
    },
    {
      "cell_type": "markdown",
      "source": [
        "# Praktikum 5: Menghitung Luas Lingkaran"
      ],
      "metadata": {
        "id": "YJJBvJcq_fZl"
      }
    },
    {
      "cell_type": "code",
      "source": [
        "import math\n",
        "r = float(input(\"Masukkan jari-jari lingkaran: \"))\n",
        "luas = math.pi * r * r\n",
        "print(\"Luas lingkaran =\", luas)"
      ],
      "metadata": {
        "colab": {
          "base_uri": "https://localhost:8080/"
        },
        "id": "5A0wQG6T-1BE",
        "outputId": "8bb6fb6b-9186-4053-b877-6c71b31b0cab"
      },
      "execution_count": null,
      "outputs": [
        {
          "output_type": "stream",
          "name": "stdout",
          "text": [
            "Masukkan jari-jari lingkaran: 21\n",
            "Luas lingkaran = 1385.442360233099\n"
          ]
        }
      ]
    },
    {
      "cell_type": "code",
      "source": [],
      "metadata": {
        "id": "a9lHbBAGACNF"
      },
      "execution_count": null,
      "outputs": []
    },
    {
      "cell_type": "markdown",
      "source": [
        "# Praktikum 6: Menjumlahkan Tiga Bilangan"
      ],
      "metadata": {
        "id": "r_UElf6XA-Kg"
      }
    },
    {
      "cell_type": "code",
      "source": [
        "a = (int)(input(\"Masukkan nilai a: \"))\n",
        "b = (int)(input(\"Masukkan nilai a: \"))\n",
        "c = (int)(input(\"Masukkan nilai a: \"))\n",
        "\n",
        "jumlah = a + b + c\n",
        "print(\"Jumlah ketiga bilangan adalah=\", jumlah)"
      ],
      "metadata": {
        "colab": {
          "base_uri": "https://localhost:8080/"
        },
        "id": "vezRyejJBEnm",
        "outputId": "a7154be2-b497-494c-e30d-64e430169194"
      },
      "execution_count": null,
      "outputs": [
        {
          "output_type": "stream",
          "name": "stdout",
          "text": [
            "Masukkan nilai a: 10\n",
            "Masukkan nilai a: 4\n",
            "Masukkan nilai a: 2\n",
            "Jumlah ketiga bilangan adalah= 16\n"
          ]
        }
      ]
    },
    {
      "cell_type": "code",
      "source": [],
      "metadata": {
        "id": "WLFsFec4BtDL"
      },
      "execution_count": null,
      "outputs": []
    }
  ]
}